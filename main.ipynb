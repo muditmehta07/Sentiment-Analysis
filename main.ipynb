{
 "cells": [
  {
   "cell_type": "code",
   "execution_count": 6,
   "metadata": {},
   "outputs": [],
   "source": [
    "import os\n",
    "import pandas as pd"
   ]
  },
  {
   "cell_type": "code",
   "execution_count": 7,
   "metadata": {},
   "outputs": [],
   "source": [
    "data_path = os.path.join(\"./dataset\", \"dataset.csv\")"
   ]
  },
  {
   "cell_type": "code",
   "execution_count": 8,
   "metadata": {},
   "outputs": [],
   "source": [
    "with open(data_path, \"r\") as f:\n",
    "    dataset = pd.read_csv(f)"
   ]
  },
  {
   "cell_type": "code",
   "execution_count": 9,
   "metadata": {},
   "outputs": [],
   "source": [
    "# prompt_keyword = input(\"search keyword: \")\n",
    "search_list = []"
   ]
  },
  {
   "cell_type": "code",
   "execution_count": 10,
   "metadata": {},
   "outputs": [
    {
     "data": {
      "text/html": [
       "<div>\n",
       "<style scoped>\n",
       "    .dataframe tbody tr th:only-of-type {\n",
       "        vertical-align: middle;\n",
       "    }\n",
       "\n",
       "    .dataframe tbody tr th {\n",
       "        vertical-align: top;\n",
       "    }\n",
       "\n",
       "    .dataframe thead th {\n",
       "        text-align: right;\n",
       "    }\n",
       "</style>\n",
       "<table border=\"1\" class=\"dataframe\">\n",
       "  <thead>\n",
       "    <tr style=\"text-align: right;\">\n",
       "      <th></th>\n",
       "      <th>image_id</th>\n",
       "      <th>impression_en</th>\n",
       "    </tr>\n",
       "  </thead>\n",
       "  <tbody>\n",
       "    <tr>\n",
       "      <th>0</th>\n",
       "      <td>15708024981269913</td>\n",
       "      <td>A young beautiful girl from the East. The natu...</td>\n",
       "    </tr>\n",
       "    <tr>\n",
       "      <th>1</th>\n",
       "      <td>15708029957387770</td>\n",
       "      <td>A young man in a hood on Red Square, around 30...</td>\n",
       "    </tr>\n",
       "    <tr>\n",
       "      <th>2</th>\n",
       "      <td>15708030330303880</td>\n",
       "      <td>In the photo, there is a young beautiful girl....</td>\n",
       "    </tr>\n",
       "    <tr>\n",
       "      <th>3</th>\n",
       "      <td>15708034407840953</td>\n",
       "      <td>In the photo, there is a cute girl with brown ...</td>\n",
       "    </tr>\n",
       "    <tr>\n",
       "      <th>4</th>\n",
       "      <td>15708036846011465</td>\n",
       "      <td>A young man, no more than thirty years old, of...</td>\n",
       "    </tr>\n",
       "    <tr>\n",
       "      <th>...</th>\n",
       "      <td>...</td>\n",
       "      <td>...</td>\n",
       "    </tr>\n",
       "    <tr>\n",
       "      <th>19995</th>\n",
       "      <td>15816590060957992</td>\n",
       "      <td>A young man around twenty years old. Most like...</td>\n",
       "    </tr>\n",
       "    <tr>\n",
       "      <th>19996</th>\n",
       "      <td>15816603996734290</td>\n",
       "      <td>A young, short girl. She looks like she's twen...</td>\n",
       "    </tr>\n",
       "    <tr>\n",
       "      <th>19997</th>\n",
       "      <td>15816686112077749</td>\n",
       "      <td>A young girl of non-Slavic appearance. Dark, s...</td>\n",
       "    </tr>\n",
       "    <tr>\n",
       "      <th>19998</th>\n",
       "      <td>15816736174410722</td>\n",
       "      <td>The guy is 18 years old. Slavic appearance, sl...</td>\n",
       "    </tr>\n",
       "    <tr>\n",
       "      <th>19999</th>\n",
       "      <td>15816742372258432</td>\n",
       "      <td>The photo shows a girl, around 13 years old, w...</td>\n",
       "    </tr>\n",
       "  </tbody>\n",
       "</table>\n",
       "<p>20000 rows × 2 columns</p>\n",
       "</div>"
      ],
      "text/plain": [
       "                image_id                                      impression_en\n",
       "0      15708024981269913  A young beautiful girl from the East. The natu...\n",
       "1      15708029957387770  A young man in a hood on Red Square, around 30...\n",
       "2      15708030330303880  In the photo, there is a young beautiful girl....\n",
       "3      15708034407840953  In the photo, there is a cute girl with brown ...\n",
       "4      15708036846011465  A young man, no more than thirty years old, of...\n",
       "...                  ...                                                ...\n",
       "19995  15816590060957992  A young man around twenty years old. Most like...\n",
       "19996  15816603996734290  A young, short girl. She looks like she's twen...\n",
       "19997  15816686112077749  A young girl of non-Slavic appearance. Dark, s...\n",
       "19998  15816736174410722  The guy is 18 years old. Slavic appearance, sl...\n",
       "19999  15816742372258432  The photo shows a girl, around 13 years old, w...\n",
       "\n",
       "[20000 rows x 2 columns]"
      ]
     },
     "execution_count": 10,
     "metadata": {},
     "output_type": "execute_result"
    }
   ],
   "source": [
    "dataset"
   ]
  }
 ],
 "metadata": {
  "kernelspec": {
   "display_name": ".venv",
   "language": "python",
   "name": "python3"
  },
  "language_info": {
   "codemirror_mode": {
    "name": "ipython",
    "version": 3
   },
   "file_extension": ".py",
   "mimetype": "text/x-python",
   "name": "python",
   "nbconvert_exporter": "python",
   "pygments_lexer": "ipython3",
   "version": "3.11.6"
  }
 },
 "nbformat": 4,
 "nbformat_minor": 2
}
